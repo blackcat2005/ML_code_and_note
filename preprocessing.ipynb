{
 "cells": [
  {
   "cell_type": "markdown",
   "id": "2813085a-05ab-4320-8b66-d161f6c9ff79",
   "metadata": {},
   "source": [
    "# Dữ liệu dạng bảng"
   ]
  },
  {
   "cell_type": "code",
   "execution_count": 1,
   "id": "075c76c4-64c8-4067-83b6-ca1d31587a8a",
   "metadata": {},
   "outputs": [],
   "source": [
    "import numpy as np\n",
    "import pandas as pd"
   ]
  },
  {
   "cell_type": "code",
   "execution_count": 3,
   "id": "6da9de11-6261-4fad-bde2-377c39b5540b",
   "metadata": {},
   "outputs": [
    {
     "data": {
      "text/html": [
       "<div>\n",
       "<style scoped>\n",
       "    .dataframe tbody tr th:only-of-type {\n",
       "        vertical-align: middle;\n",
       "    }\n",
       "\n",
       "    .dataframe tbody tr th {\n",
       "        vertical-align: top;\n",
       "    }\n",
       "\n",
       "    .dataframe thead th {\n",
       "        text-align: right;\n",
       "    }\n",
       "</style>\n",
       "<table border=\"1\" class=\"dataframe\">\n",
       "  <thead>\n",
       "    <tr style=\"text-align: right;\">\n",
       "      <th></th>\n",
       "      <th>Age</th>\n",
       "      <th>Sex</th>\n",
       "      <th>BP</th>\n",
       "      <th>Cholesterol</th>\n",
       "      <th>Na_to_K</th>\n",
       "      <th>Drug</th>\n",
       "    </tr>\n",
       "  </thead>\n",
       "  <tbody>\n",
       "    <tr>\n",
       "      <th>0</th>\n",
       "      <td>23</td>\n",
       "      <td>F</td>\n",
       "      <td>HIGH</td>\n",
       "      <td>HIGH</td>\n",
       "      <td>25.355</td>\n",
       "      <td>drugY</td>\n",
       "    </tr>\n",
       "    <tr>\n",
       "      <th>1</th>\n",
       "      <td>47</td>\n",
       "      <td>M</td>\n",
       "      <td>LOW</td>\n",
       "      <td>HIGH</td>\n",
       "      <td>13.093</td>\n",
       "      <td>drugC</td>\n",
       "    </tr>\n",
       "    <tr>\n",
       "      <th>2</th>\n",
       "      <td>47</td>\n",
       "      <td>M</td>\n",
       "      <td>LOW</td>\n",
       "      <td>HIGH</td>\n",
       "      <td>10.114</td>\n",
       "      <td>drugC</td>\n",
       "    </tr>\n",
       "    <tr>\n",
       "      <th>3</th>\n",
       "      <td>28</td>\n",
       "      <td>F</td>\n",
       "      <td>NORMAL</td>\n",
       "      <td>HIGH</td>\n",
       "      <td>7.798</td>\n",
       "      <td>drugX</td>\n",
       "    </tr>\n",
       "    <tr>\n",
       "      <th>4</th>\n",
       "      <td>61</td>\n",
       "      <td>F</td>\n",
       "      <td>LOW</td>\n",
       "      <td>HIGH</td>\n",
       "      <td>18.043</td>\n",
       "      <td>drugY</td>\n",
       "    </tr>\n",
       "  </tbody>\n",
       "</table>\n",
       "</div>"
      ],
      "text/plain": [
       "   Age Sex      BP Cholesterol  Na_to_K   Drug\n",
       "0   23   F    HIGH        HIGH   25.355  drugY\n",
       "1   47   M     LOW        HIGH   13.093  drugC\n",
       "2   47   M     LOW        HIGH   10.114  drugC\n",
       "3   28   F  NORMAL        HIGH    7.798  drugX\n",
       "4   61   F     LOW        HIGH   18.043  drugY"
      ]
     },
     "execution_count": 3,
     "metadata": {},
     "output_type": "execute_result"
    }
   ],
   "source": [
    "my_data = pd.read_csv(\"data/drug200.csv\", delimiter=\",\")\n",
    "my_data.head()"
   ]
  },
  {
   "cell_type": "code",
   "execution_count": 5,
   "id": "98e4f7e6-ec7e-49c3-b4cc-89afe14cf46f",
   "metadata": {},
   "outputs": [
    {
     "data": {
      "text/plain": [
       "(200, 6)"
      ]
     },
     "execution_count": 5,
     "metadata": {},
     "output_type": "execute_result"
    }
   ],
   "source": [
    "my_data.shape"
   ]
  },
  {
   "cell_type": "code",
   "execution_count": 8,
   "id": "eca12f4e-a127-428b-befb-ce778f3af116",
   "metadata": {},
   "outputs": [
    {
     "data": {
      "text/plain": [
       "array([[23, 'F', 'HIGH', 'HIGH', 25.355],\n",
       "       [47, 'M', 'LOW', 'HIGH', 13.093],\n",
       "       [47, 'M', 'LOW', 'HIGH', 10.114],\n",
       "       [28, 'F', 'NORMAL', 'HIGH', 7.798],\n",
       "       [61, 'F', 'LOW', 'HIGH', 18.043]], dtype=object)"
      ]
     },
     "execution_count": 8,
     "metadata": {},
     "output_type": "execute_result"
    }
   ],
   "source": [
    "# values để chuyển data frame sang numpy dùng cho thư viện sklearn\n",
    "X = my_data[['Age', 'Sex', 'BP', 'Cholesterol', 'Na_to_K']].values\n",
    "X[0:5]"
   ]
  },
  {
   "cell_type": "markdown",
   "id": "a1c3ada8-d904-4864-b1cf-3c4185401895",
   "metadata": {},
   "source": [
    "Chuyển từ categorical sang số thực"
   ]
  },
  {
   "cell_type": "code",
   "execution_count": 13,
   "id": "ef003e5b-9534-44c6-8ba4-b8239eb10e57",
   "metadata": {},
   "outputs": [
    {
     "data": {
      "text/plain": [
       "array([[23, 0, 0, 0, 25.355],\n",
       "       [47, 1, 1, 0, 13.093],\n",
       "       [47, 1, 1, 0, 10.114],\n",
       "       [28, 0, 2, 0, 7.798],\n",
       "       [61, 0, 1, 0, 18.043]], dtype=object)"
      ]
     },
     "execution_count": 13,
     "metadata": {},
     "output_type": "execute_result"
    }
   ],
   "source": [
    "from sklearn import preprocessing\n",
    "le_sex = preprocessing.LabelEncoder()\n",
    "X[:,1] = le_sex.fit_transform(X[:,1])\n",
    "\n",
    "le_BP = preprocessing.LabelEncoder()\n",
    "X[:,2] = le_BP.fit_transform(X[:,2])\n",
    "\n",
    "le_Chol = preprocessing.LabelEncoder()\n",
    "X[:,3] = le_Chol.fit_transform(X[:,3])\n",
    "\n",
    "X[0:5]"
   ]
  },
  {
   "cell_type": "code",
   "execution_count": 16,
   "id": "35b3e739-50b4-4b08-be0e-13805ff0bf91",
   "metadata": {},
   "outputs": [
    {
     "data": {
      "text/plain": [
       "array([[23, 0, 0, 0, 1.2865221173753494],\n",
       "       [47, 1, 1, 0, -0.4151453955143373],\n",
       "       [47, 1, 1, 0, -0.8285581765368765],\n",
       "       [28, 0, 2, 0, -1.1499626749753462],\n",
       "       [61, 0, 1, 0, 0.27179427083731394]], dtype=object)"
      ]
     },
     "execution_count": 16,
     "metadata": {},
     "output_type": "execute_result"
    }
   ],
   "source": [
    "mean = X[:, -1].mean()\n",
    "std = X[:, -1].std()\n",
    "X[:, -1] = (X[:, -1] - mean) / std\n",
    "\n",
    "X[0:5]"
   ]
  },
  {
   "cell_type": "code",
   "execution_count": 18,
   "id": "26a20919-2eea-4bfd-bc96-373f3ed98b87",
   "metadata": {},
   "outputs": [
    {
     "data": {
      "text/plain": [
       "0    drugY\n",
       "1    drugC\n",
       "2    drugC\n",
       "3    drugX\n",
       "4    drugY\n",
       "Name: Drug, dtype: object"
      ]
     },
     "execution_count": 18,
     "metadata": {},
     "output_type": "execute_result"
    }
   ],
   "source": [
    "y = my_data[\"Drug\"]\n",
    "y[0:5]"
   ]
  },
  {
   "cell_type": "code",
   "execution_count": 20,
   "id": "b68ded16-49bc-4662-8b71-05b7f59351a2",
   "metadata": {},
   "outputs": [
    {
     "data": {
      "text/plain": [
       "array([4, 2, 2, 3, 4], dtype=int64)"
      ]
     },
     "execution_count": 20,
     "metadata": {},
     "output_type": "execute_result"
    }
   ],
   "source": [
    "y = preprocessing.LabelEncoder().fit_transform(y)\n",
    "y[0:5]"
   ]
  },
  {
   "cell_type": "markdown",
   "id": "bf046463-573a-440f-b5e4-e99d8df5999b",
   "metadata": {},
   "source": [
    "# TI_DF"
   ]
  },
  {
   "cell_type": "markdown",
   "id": "62541ade-6a4b-487f-bee6-83b4786a0b8f",
   "metadata": {},
   "source": [
    "## Phương pháp mã hóa: TF-IDF\n",
    "Cho tập gồm $n$ văn bản: $D = \\{d_1, d_2, ... d_n\\}$. Tập từ điển tương ứng được xây dựng từ $n$ văn bản này có độ dài là $m$\n",
    "- Xét văn bản $d$ có $|d|$ từ và $t$ là một từ trong $d$. Mã hóa tf-idf của $t$ trong văn bản $d$ được biểu diễn:\n",
    "\\begin{equation}\n",
    "    \\begin{split}\n",
    "        \\text{tf}_{t, d} &= \\frac{f_t}{|d|} \\\\\n",
    "        \\text{idf}_{t, d} &= \\log\\frac{n}{n_t}, \\ \\ \\ \\ n_t = |\\{d\\in D: t\\in d\\}| \\\\\n",
    "        \\text{tf-idf}_{t d} &= \\text{tf}_{t, d} \\times \\text{idf}_{t, d}\n",
    "    \\end{split}\n",
    "\\end{equation}\n",
    "\n",
    "- Khi đó văn bản $d$ được mã hóa là một vector $m$ chiều. Các từ xuất hiện trong d sẽ được thay bằng giá trị tf-idf tương ứng. Các từ không xuất hiện trong $d$ thì thay là 0"
   ]
  },
  {
   "cell_type": "code",
   "execution_count": 26,
   "id": "74d98e4b-5e00-4b82-bf62-2346bb807e2e",
   "metadata": {},
   "outputs": [
    {
     "name": "stdout",
     "output_type": "stream",
     "text": [
      "<module 'numpy.testing' from 'C:\\\\Users\\\\nguye\\\\miniconda3\\\\envs\\\\course\\\\lib\\\\site-packages\\\\numpy\\\\testing\\\\__init__.py'>\n"
     ]
    }
   ],
   "source": [
    "import numpy as np\n",
    "print(np.testing)"
   ]
  },
  {
   "cell_type": "code",
   "execution_count": 2,
   "id": "a8a898fd-7624-4486-9a63-1d9708d22af2",
   "metadata": {},
   "outputs": [],
   "source": [
    "import os\n",
    "import matplotlib.pyplot as plt\n",
    "import numpy as np\n",
    "\n",
    "from sklearn.feature_extraction.text import CountVectorizer, TfidfTransformer\n",
    "from sklearn.pipeline import Pipeline\n",
    "from sklearn.datasets import load_files\n",
    "\n",
    "%matplotlib inline"
   ]
  },
  {
   "cell_type": "code",
   "execution_count": 3,
   "id": "106a419c-b889-46c1-a773-87410ffb5cf1",
   "metadata": {},
   "outputs": [],
   "source": [
    "INPUT = 'data/news_vnexpress'\n",
    "os.makedirs(\"images\",exist_ok=True)  # thư mục lưu các các hình ảnh kết quả trong quá trình huấn luyện và đánh giá"
   ]
  },
  {
   "cell_type": "code",
   "execution_count": 4,
   "id": "fed5989d-7408-4feb-8d69-aa49373ee429",
   "metadata": {},
   "outputs": [
    {
     "name": "stdout",
     "output_type": "stream",
     "text": [
      "Các nhãn và số văn bản tương ứng trong dữ liệu\n",
      "----------------------------------------------\n",
      "doi-song: 120\n",
      "du-lich: 54\n",
      "giai-tri: 201\n",
      "giao-duc: 105\n",
      "khoa-hoc: 144\n",
      "kinh-doanh: 262\n",
      "phap-luat: 59\n",
      "suc-khoe: 162\n",
      "the-thao: 173\n",
      "thoi-su: 59\n",
      "-------------------------\n",
      "Tổng số văn bản: 1339\n"
     ]
    }
   ],
   "source": [
    "print('Các nhãn và số văn bản tương ứng trong dữ liệu')\n",
    "print('----------------------------------------------')\n",
    "n = 0\n",
    "for label in os.listdir(INPUT):\n",
    "    print(f'{label}: {len(os.listdir(os.path.join(INPUT, label)))}')\n",
    "    n += len(os.listdir(os.path.join(INPUT, label)))\n",
    "\n",
    "print('-------------------------')\n",
    "print(f\"Tổng số văn bản: {n}\")"
   ]
  },
  {
   "cell_type": "code",
   "execution_count": 6,
   "id": "754414dc-1b76-4941-8ba4-76ae3bd5df32",
   "metadata": {},
   "outputs": [
    {
     "name": "stdout",
     "output_type": "stream",
     "text": [
      "doi-song - 0\n",
      "du-lich - 1\n",
      "giai-tri - 2\n",
      "giao-duc - 3\n",
      "khoa-hoc - 4\n",
      "kinh-doanh - 5\n",
      "phap-luat - 6\n",
      "suc-khoe - 7\n",
      "the-thao - 8\n",
      "thoi-su - 9\n",
      "--------------------------\n",
      "['data/news_vnexpress\\\\khoa-hoc\\\\00133.txt']\n",
      "[4]\n",
      "['Mời độc giả đặt câu hỏi tại đây\\n']\n",
      "\n",
      "Tổng số  văn bản: 1339\n"
     ]
    }
   ],
   "source": [
    "data_train = load_files(container_path=INPUT, encoding='utf-8')\n",
    "for i in range(len(data_train.target_names)):\n",
    "    print(f'{data_train.target_names[i]} - {i}')\n",
    "\n",
    "print('--------------------------')\n",
    "print(data_train.filenames[0:1])\n",
    "# print(data_train.data[0:1])\n",
    "print(data_train.target[0:1])\n",
    "print(data_train.data[0:1])\n",
    "\n",
    "print(\"\\nTổng số  văn bản: {}\" .format( len(data_train.filenames)))"
   ]
  },
  {
   "cell_type": "code",
   "execution_count": 10,
   "id": "4d638e4b-e10e-4aef-8566-945eb9dc0e56",
   "metadata": {},
   "outputs": [
    {
     "name": "stdout",
     "output_type": "stream",
     "text": [
      "Số lượng stopwords: 2063\n",
      "['a_lô', 'a_ha', 'ai', 'ai_ai', 'ai_nấy', 'ai_đó', 'alô', 'amen', 'anh', 'anh_ấy']\n",
      "\n",
      "Số lượng từ trong từ điển: 12796\n",
      "Kích thước dữ liệu sau khi xử lý: (1339, 12796)\n",
      "Kích thước nhãn tương ứng: (1339,)\n"
     ]
    }
   ],
   "source": [
    "with open(\"data/vietnamese-stopwords.txt\", encoding=\"utf8\") as f:\n",
    "    stopwords = f.readlines()\n",
    "stopwords = [x.strip().replace(\" \", \"_\") for x in stopwords]\n",
    "print(f\"Số lượng stopwords: {len(stopwords)}\")\n",
    "print(stopwords[:10])\n",
    "\n",
    "module_count_vector = CountVectorizer(stop_words=stopwords)\n",
    "model_rf_prepreocess = Pipeline([\n",
    "    ('vect', module_count_vector),\n",
    "    ('tfidf', TfidfTransformer()),\n",
    "])\n",
    "\n",
    "data_preprocessed = model_rf_prepreocess.fit_transform(data_train.data, data_train.target)\n",
    "print(f\"\\nSố lượng từ trong từ điển: {len(module_count_vector.vocabulary_)}\")\n",
    "print(f\"Kích thước dữ liệu sau khi xử lý: {data_preprocessed.shape}\")\n",
    "print(f\"Kích thước nhãn tương ứng: {data_train.target.shape}\")\n"
   ]
  },
  {
   "cell_type": "code",
   "execution_count": 11,
   "id": "cf859337-50d7-4e45-87eb-9a54aa352fc0",
   "metadata": {},
   "outputs": [],
   "source": [
    "X = data_preprocessed\n",
    "Y = data_train.target"
   ]
  },
  {
   "cell_type": "code",
   "execution_count": 12,
   "id": "f52f5310-454e-47df-9af1-ef9d4a8a0970",
   "metadata": {},
   "outputs": [
    {
     "data": {
      "text/plain": [
       "((1339, 12796), (1339,))"
      ]
     },
     "execution_count": 12,
     "metadata": {},
     "output_type": "execute_result"
    }
   ],
   "source": [
    "X.shape, Y.shape"
   ]
  },
  {
   "cell_type": "code",
   "execution_count": 13,
   "id": "b2039302-6aa8-4399-83c3-6d23dd154599",
   "metadata": {},
   "outputs": [
    {
     "name": "stdout",
     "output_type": "stream",
     "text": [
      "[[0.         0.         0.         ... 0.         0.14048828 0.        ]]\n",
      "5\n"
     ]
    }
   ],
   "source": [
    "print(X[100].toarray())\n",
    "print(Y[100])"
   ]
  },
  {
   "cell_type": "code",
   "execution_count": 17,
   "id": "a1117c11-143e-4e92-b292-c9bc7cae2f1e",
   "metadata": {},
   "outputs": [
    {
     "data": {
      "text/plain": [
       "289"
      ]
     },
     "execution_count": 17,
     "metadata": {},
     "output_type": "execute_result"
    }
   ],
   "source": [
    "sum(sum(X[100].toarray() != 0))"
   ]
  },
  {
   "cell_type": "code",
   "execution_count": 18,
   "id": "61bbdf1b-3893-41d1-9e47-b9f5b595bc3e",
   "metadata": {},
   "outputs": [
    {
     "name": "stdout",
     "output_type": "stream",
     "text": [
      "  (0, 12794)\t0.14048828324700804\n",
      "  (0, 12724)\t0.051226678060487627\n",
      "  (0, 12714)\t0.034379239518190156\n",
      "  (0, 12705)\t0.024927343279465615\n",
      "  (0, 12697)\t0.03935911209707954\n",
      "  (0, 12692)\t0.013885134230282647\n",
      "  (0, 12691)\t0.02076954755505395\n",
      "  (0, 12672)\t0.03173992101554847\n",
      "  (0, 12646)\t0.04268947993761032\n",
      "  (0, 12643)\t0.030193779677554416\n",
      "  (0, 12629)\t0.024173036345759045\n",
      "  (0, 12626)\t0.01928809379275951\n",
      "  (0, 12624)\t0.3318224864003995\n",
      "  (0, 12617)\t0.08000423234784886\n",
      "  (0, 12591)\t0.07519534686809994\n",
      "  (0, 12584)\t0.03876774373554222\n",
      "  (0, 12566)\t0.033240367004725005\n",
      "  (0, 12558)\t0.03206234356763185\n",
      "  (0, 12547)\t0.04575286598942787\n",
      "  (0, 12535)\t0.05488370325838488\n",
      "  (0, 12521)\t0.09355442947181113\n",
      "  (0, 12517)\t0.03883219864696093\n",
      "  (0, 12509)\t0.017786174579851665\n",
      "  (0, 12454)\t0.07589970050190288\n",
      "  (0, 12272)\t0.02125953768208212\n",
      "  :\t:\n",
      "  (0, 2170)\t0.029508397725910254\n",
      "  (0, 2159)\t0.016084504788746505\n",
      "  (0, 2140)\t0.015661963686282587\n",
      "  (0, 2135)\t0.04322051581452054\n",
      "  (0, 2111)\t0.025775634654335113\n",
      "  (0, 2101)\t0.026936724711167648\n",
      "  (0, 2076)\t0.014547704347804934\n",
      "  (0, 1866)\t0.05117031195708947\n",
      "  (0, 1783)\t0.0473450956087146\n",
      "  (0, 1631)\t0.023493949966261328\n",
      "  (0, 1590)\t0.03492662390306206\n",
      "  (0, 1271)\t0.01600570513441007\n",
      "  (0, 1219)\t0.05117031195708947\n",
      "  (0, 1209)\t0.10234062391417895\n",
      "  (0, 1194)\t0.05117031195708947\n",
      "  (0, 909)\t0.03318224864003995\n",
      "  (0, 662)\t0.022769929356223212\n",
      "  (0, 418)\t0.04891806652384772\n",
      "  (0, 397)\t0.03423295419235291\n",
      "  (0, 392)\t0.024783841259467598\n",
      "  (0, 269)\t0.033240367004725005\n",
      "  (0, 188)\t0.04722498744523732\n",
      "  (0, 156)\t0.023262873797037946\n",
      "  (0, 100)\t0.02076954755505395\n",
      "  (0, 81)\t0.015211595534715629\n"
     ]
    }
   ],
   "source": [
    "print(X[100])"
   ]
  }
 ],
 "metadata": {
  "kernelspec": {
   "display_name": "Python 3 (ipykernel)",
   "language": "python",
   "name": "python3"
  },
  "language_info": {
   "codemirror_mode": {
    "name": "ipython",
    "version": 3
   },
   "file_extension": ".py",
   "mimetype": "text/x-python",
   "name": "python",
   "nbconvert_exporter": "python",
   "pygments_lexer": "ipython3",
   "version": "3.8.18"
  }
 },
 "nbformat": 4,
 "nbformat_minor": 5
}
